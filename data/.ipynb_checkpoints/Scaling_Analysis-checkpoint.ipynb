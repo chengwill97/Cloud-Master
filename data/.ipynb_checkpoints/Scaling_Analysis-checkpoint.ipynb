{
 "cells": [
  {
   "cell_type": "code",
   "execution_count": 4,
   "metadata": {
    "collapsed": true
   },
   "outputs": [],
   "source": [
    "import os\n",
    "import csv\n",
    "from tabulate import tabulate"
   ]
  },
  {
   "cell_type": "code",
   "execution_count": 7,
   "metadata": {},
   "outputs": [
    {
     "name": "stdout",
     "output_type": "stream",
     "text": [
      "/Users/WillC/Documents/Rutgers/Research/RADICAL/Cloud_Master/data/output/Comet_test_048/weak_scale_output/data.csv\n"
     ]
    }
   ],
   "source": [
    "\n",
    "output_dir = '/Users/WillC/Documents/Rutgers/Research/RADICAL/Cloud_Master/data/output'\n",
    "test = 'Comet_test_048'\n",
    "\n",
    "latest_test_dir = os.path.join(output_dir, test)\n",
    "test_dir = [f for f in os.listdir(latest_test_dir)]\n",
    "    \n",
    "weak_scale_test_dir = os.path.join(latest_test_dir,'weak_scale_output')\n",
    "weak_scale_output = [f for f in os.listdir(weak_scale_test_dir)]\n",
    "weak_scale_data = os.path.join(weak_scale_test_dir, 'data.csv')\n",
    "\n",
    "strong_scale_test_dir = os.path.join(latest_test_dir,'strong_scale_output')\n",
    "strong_scale_output = [f for f in os.listdir(strong_scale_test_dir)]\n",
    "strong_scale_data = os.path.join(strong_scale_test_dir, 'data.csv')\n",
    "\n",
    "print(weak_scale_data)"
   ]
  },
  {
   "cell_type": "code",
   "execution_count": 8,
   "metadata": {},
   "outputs": [
    {
     "name": "stdout",
     "output_type": "stream",
     "text": [
      "Test Directory          2 ^ Number of Jobs    2 ^ Number of Cores    Run Time\n",
      "--------------------  --------------------  ---------------------  ----------\n",
      "single_run_output000                     1                      1     4.02923\n",
      "single_run_output001                     1                      2     3.95196\n",
      "single_run_output002                     1                      4     4.13347\n",
      "single_run_output003                     1                      8     4.02765\n",
      "single_run_output004                     2                      1     7.36289\n",
      "single_run_output005                     2                      2     3.91927\n",
      "single_run_output006                     2                      4     4.14077\n",
      "single_run_output007                     2                      8     7.36242\n",
      "single_run_output008                     4                      1    13.531\n",
      "single_run_output009                     4                      2    10.5289\n",
      "single_run_output010                     4                      4     4.0209\n",
      "single_run_output011                     4                      8     4.03919\n",
      "single_run_output012                     8                      1    40.3777\n",
      "single_run_output013                     8                      2    23.2638\n",
      "single_run_output014                     8                      4     7.45522\n",
      "single_run_output015                     8                      8     7.27406\n",
      "single_run_output016                    16                      1    63.5061\n",
      "single_run_output017                    16                      2    37.3019\n",
      "single_run_output018                    16                      4    20.8475\n",
      "single_run_output019                    16                      8     7.45236\n",
      "single_run_output020                    32                      1   130.114\n",
      "single_run_output021                    32                      2    82.4472\n",
      "single_run_output022                    32                      4    62.6322\n",
      "single_run_output023                    32                      8    14.4815\n",
      "single_run_output024                    64                      1   393.536\n",
      "single_run_output025                    64                      2   174.198\n",
      "single_run_output026                    64                      4    53.1101\n",
      "single_run_output027                    64                      8    27.983\n",
      "single_run_output028                   128                      1   577.084\n",
      "single_run_output029                   128                      2   483.103\n",
      "single_run_output030                   128                      4   115.367\n",
      "single_run_output031                   128                      8    79.8932\n",
      "single_run_output032                   256                      1  1102.62\n",
      "single_run_output033                   256                      2   519.852\n",
      "single_run_output034                   256                      4   233.916\n",
      "single_run_output035                   256                      8   136.315\n",
      "single_run_output036                   512                      1  2378.87\n",
      "single_run_output037                   512                      2   888.04\n",
      "single_run_output038                   512                      4   420.176\n",
      "single_run_output039                   512                      8   210.375\n"
     ]
    }
   ],
   "source": [
    "with open(strong_scale_data, 'rt') as csvfile:\n",
    "    reader = csv.reader(csvfile, delimiter=',')\n",
    "    \n",
    "    rows = list()\n",
    "    for row in reader:\n",
    "        if 'Error' not in row[0]:\n",
    "            row[0] = row[0].split('/').pop()\n",
    "            rows.append(row)\n",
    "            \n",
    "    print(tabulate(rows[1:], headers=rows[0]))\n"
   ]
  },
  {
   "cell_type": "code",
   "execution_count": null,
   "metadata": {
    "collapsed": true
   },
   "outputs": [],
   "source": []
  }
 ],
 "metadata": {
  "kernelspec": {
   "display_name": "Python 3",
   "language": "python",
   "name": "python3"
  },
  "language_info": {
   "codemirror_mode": {
    "name": "ipython",
    "version": 3
   },
   "file_extension": ".py",
   "mimetype": "text/x-python",
   "name": "python",
   "nbconvert_exporter": "python",
   "pygments_lexer": "ipython3",
   "version": "3.6.1"
  }
 },
 "nbformat": 4,
 "nbformat_minor": 2
}
