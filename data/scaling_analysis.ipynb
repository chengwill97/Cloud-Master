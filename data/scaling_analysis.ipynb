{
 "cells": [
  {
   "cell_type": "code",
   "execution_count": 4,
   "metadata": {
    "collapsed": true
   },
   "outputs": [],
   "source": [
    "import os\n",
    "import csv\n",
    "from tabulate import tabulate"
   ]
  },
  {
   "cell_type": "code",
   "execution_count": 7,
   "metadata": {},
   "outputs": [
    {
     "name": "stdout",
     "output_type": "stream",
     "text": [
      "/Users/WillC/Documents/Rutgers/Research/RADICAL/Cloud_Master/data/output/Comet_test_048/weak_scale_output/data.csv\n"
     ]
    }
   ],
   "source": [
    "\n",
    "output_dir = '/Users/WillC/Documents/Rutgers/Research/RADICAL/Cloud_Master/data/output'\n",
    "test = 'Comet_test_048'\n",
    "\n",
    "latest_test_dir = os.path.join(output_dir, test)\n",
    "test_dir = [f for f in os.listdir(latest_test_dir)]\n",
    "    \n",
    "weak_scale_test_dir = os.path.join(latest_test_dir,'weak_scale_output')\n",
    "weak_scale_output = [f for f in os.listdir(weak_scale_test_dir)]\n",
    "weak_scale_data = os.path.join(weak_scale_test_dir, 'data.csv')\n",
    "\n",
    "strong_scale_test_dir = os.path.join(latest_test_dir,'strong_scale_output')\n",
    "strong_scale_output = [f for f in os.listdir(strong_scale_test_dir)]\n",
    "strong_scale_data = os.path.join(strong_scale_test_dir, 'data.csv')\n",
    "\n",
    "print(weak_scale_data)"
   ]
  },
  {
   "cell_type": "code",
   "execution_count": 9,
   "metadata": {},
   "outputs": [
    {
     "name": "stdout",
     "output_type": "stream",
     "text": [
      "Test Directory          2 ^ Number of Cores    2 ^ Jobs per Cores    Run Time\n",
      "--------------------  ---------------------  --------------------  ----------\n",
      "single_run_output000                      1                     1     4.02914\n",
      "single_run_output001                      1                     2     4.1393\n",
      "single_run_output002                      1                     4     4.12659\n",
      "single_run_output003                      2                     1     4.0266\n",
      "single_run_output004                      2                     2     4.03507\n",
      "single_run_output005                      2                     4    10.4258\n",
      "single_run_output006                      4                     1     4.13643\n",
      "single_run_output007                      4                     2     4.1205\n",
      "single_run_output008                      4                     4    14.2695\n",
      "single_run_output009                      8                     1     4.12431\n",
      "single_run_output010                      8                     2     4.23483\n",
      "single_run_output011                      8                     4    36.7824\n",
      "single_run_output012                     16                     1     3.93538\n",
      "single_run_output013                     16                     2     4.05904\n",
      "single_run_output014                     16                     4    63.4577\n"
     ]
    }
   ],
   "source": [
    "rows = list()\n",
    "with open(weak_scale_data, 'rt') as csvfile:\n",
    "    reader = csv.reader(csvfile, delimiter=',')\n",
    "    for row in reader:\n",
    "        if 'Error' not in row[0]:\n",
    "            row[0] = row[0].split('/').pop()\n",
    "            rows.append(row)\n",
    "            \n",
    "    print(tabulate(rows[1:], headers=rows[0]))\n"
   ]
  },
  {
   "cell_type": "code",
   "execution_count": null,
   "metadata": {
    "collapsed": true
   },
   "outputs": [],
   "source": []
  }
 ],
 "metadata": {
  "kernelspec": {
   "display_name": "Python 3",
   "language": "python",
   "name": "python3"
  },
  "language_info": {
   "codemirror_mode": {
    "name": "ipython",
    "version": 3
   },
   "file_extension": ".py",
   "mimetype": "text/x-python",
   "name": "python",
   "nbconvert_exporter": "python",
   "pygments_lexer": "ipython3",
   "version": "3.6.1"
  }
 },
 "nbformat": 4,
 "nbformat_minor": 2
}
